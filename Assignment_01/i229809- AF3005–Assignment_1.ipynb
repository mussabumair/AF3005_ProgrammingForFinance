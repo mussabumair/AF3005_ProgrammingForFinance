{
 "cells": [
  {
   "cell_type": "markdown",
   "metadata": {
    "id": "5SRLdaqmHtmP"
   },
   "source": [
    "# **AF3005 – Programming for Finance**  \n",
    "\n",
    "---\n",
    "\n",
    "## **📘 Assignment 1: Smart Financial Management System**  \n",
    "\n",
    "📍 **FAST National University of Computer and Emerging Sciences (FAST-NUCES), Islamabad**  \n",
    "👨‍🏫 **Instructor:** Dr. Usama Arshad (Assistant Professor, FSM)  \n",
    "🎓 **Program:** BS Financial Technology (BSFT)  \n",
    "📅 **Semester:** Spring 2025  \n",
    "📌 **Sections:** BSFT06A, BSFT06B, BSFT06C  \n",
    "\n",
    "---\n",
    "\n",
    "## **🎯 Course Learning Outcomes (CLOs)**  \n",
    "- **CLO1:** Write Python programs to solve basic financial problems.  \n",
    "- **CLO2:** Perform data manipulation and analysis using Python libraries.  \n",
    "\n",
    "---\n",
    "\n",
    "\n",
    "\n",
    "\n",
    "\n",
    "\n",
    "\n",
    "\n",
    "\n",
    "\n",
    "\n"
   ]
  },
  {
   "cell_type": "markdown",
   "metadata": {
    "id": "wXgvxhSVQXNz"
   },
   "source": [
    "\n",
    "# **🟢 Deadline: 15th February 2025**\n",
    "\n",
    "---\n",
    "\n"
   ]
  },
  {
   "cell_type": "markdown",
   "metadata": {
    "id": "mHDXP18hMn3A"
   },
   "source": [
    "## **📥 Submission Guidelines**\n",
    "- **File Format:** Submit your assignment as a Jupyter Notebook file (`.ipynb`).\n",
    "- **Naming Convention:** Use the format `[Your_regno]_AF3005_Assignment1.ipynb`.\n",
    "- **Submission Platform:** Upload your file to **Google Classroom** under the assigned submission.\n",
    "- **GitHub Repository:**\n",
    "  - Create a GitHub repository named `AF3005_ProgrammingForFinance`.\n",
    "  - Upload your `.ipynb` file.\n",
    "  - Ensure the repository is structured properly with a `README.md` explaining the implementation.\n",
    "  - The implementation must include `ipywidgets` for interactive elements.\n",
    "  - Share the GitHub repository link in Google Classroom submission with file.\n",
    "\n",
    "---\n",
    "\n",
    "---\n",
    "\n"
   ]
  },
  {
   "cell_type": "markdown",
   "metadata": {
    "id": "XEanO5EiLdC9"
   },
   "source": [
    "# **🟢 Scenario: Smart Financial Management System [20 marks]**  \n",
    "\n",
    "\n",
    "---\n",
    "\n",
    "\n",
    "SecureBank wants to develop an **automated financial management system** using Python. Your task is to implement different financial operations step by step.\n",
    "\n",
    "This system will:  \n",
    "✅ **Assess customer eligibility for loans.**  \n",
    "✅ **Classify investment portfolios based on risk.**  \n",
    "✅ **Automate loan repayment tracking.**  \n",
    "✅ **Monitor stock market trends and trigger alerts.**  \n",
    "✅ **Track currency exchange rates and suggest conversions.**  \n",
    "\n",
    "Your task is to **break down the requirements, write a structured plan, and implement the logic step by step** using **ipywidgets** for interactive user inputs.\n",
    "\n",
    "---\n",
    "\n"
   ]
  },
  {
   "cell_type": "markdown",
   "metadata": {
    "id": "sIKHzkmkLYYM"
   },
   "source": [
    "## **🟢 Part 1: Loan Eligibility & Interest Rate Calculation [4 marks]**  \n",
    "\n",
    "📌 **Requirement:**  \n",
    "SecureBank only approves loans if the **customer meets all eligibility criteria**. The system should:  \n",
    "✔ **Check if the customer is employed.**  \n",
    "✔ **Verify if the income is at least PKR 50,000.**  \n",
    "✔ **Check credit score:**  \n",
    "   - **750+ → 5% Interest Rate**  \n",
    "   - **650 - 749 → 8% Interest Rate**  \n",
    "   - **Below 650 → Loan Rejected**  \n",
    "✔ **If the applicant is unemployed, the loan is rejected immediately.**  \n",
    "\n",
    "### **Implementation Steps:**  \n",
    "🔹 **Step 1:** Structure the `if-elif-else` statements for this logic.  \n",
    "🔹 **Step 2:** Implement a Python program using **ipywidgets** for interactive user input (income, credit score, employment status) to decide whether the loan is approved or rejected.\n",
    "\n",
    "---"
   ]
  },
  {
   "cell_type": "code",
   "execution_count": 11,
   "metadata": {
    "id": "JnoBYZkTKqRw"
   },
   "outputs": [
    {
     "data": {
      "application/vnd.jupyter.widget-view+json": {
       "model_id": "4b7c33945af445f6967293eb3ff3ae14",
       "version_major": 2,
       "version_minor": 0
      },
      "text/plain": [
       "ToggleButtons(description='Employment:', options=(('Employed', True), ('Unemployed', False)), style=ToggleButt…"
      ]
     },
     "metadata": {},
     "output_type": "display_data"
    },
    {
     "data": {
      "application/vnd.jupyter.widget-view+json": {
       "model_id": "ec17862a01774eac8e2b295f475c71a7",
       "version_major": 2,
       "version_minor": 0
      },
      "text/plain": [
       "IntText(value=50000, description='Income (PKR):', style=DescriptionStyle(description_width='initial'))"
      ]
     },
     "metadata": {},
     "output_type": "display_data"
    },
    {
     "data": {
      "application/vnd.jupyter.widget-view+json": {
       "model_id": "b292c45ee97d498c904bf95cda6a01dc",
       "version_major": 2,
       "version_minor": 0
      },
      "text/plain": [
       "IntSlider(value=700, description='Credit Score:', max=850, min=300, step=10, style=SliderStyle(description_wid…"
      ]
     },
     "metadata": {},
     "output_type": "display_data"
    },
    {
     "data": {
      "application/vnd.jupyter.widget-view+json": {
       "model_id": "a55cf242596b45f9983cb914ef20da41",
       "version_major": 2,
       "version_minor": 0
      },
      "text/plain": [
       "Button(description='Check Eligibility', style=ButtonStyle())"
      ]
     },
     "metadata": {},
     "output_type": "display_data"
    },
    {
     "data": {
      "application/vnd.jupyter.widget-view+json": {
       "model_id": "4f63bc47d39b4b43a49f5581c7815ec9",
       "version_major": 2,
       "version_minor": 0
      },
      "text/plain": [
       "Output()"
      ]
     },
     "metadata": {},
     "output_type": "display_data"
    }
   ],
   "source": [
    "import ipywidgets as widgets \n",
    "from IPython.display import display\n",
    "\n",
    "def eligibility(employment, income, credit_score):\n",
    "    if not employment:\n",
    "        return \"Loan is rejected as you are not emplaoyed.\"\n",
    "    if income<50000:\n",
    "        return \"Loan is rejected: Income is below 50,000 rupees.\"\n",
    "    if credit_score >= 750:\n",
    "        return \"Loan Approved: 5% interest rate will be applied.\"\n",
    "    elif 650 <= credit_score < 750:\n",
    "        return \"Loan Approved: 8% interest rate will be applied.\"\n",
    "    else:\n",
    "        return \"Loan is rejected: Credit score is below 650.\"\n",
    "\n",
    "employment_stat= widgets.ToggleButtons(\n",
    "    options=[('Employed',True), ('Unemployed', False)],\n",
    "    description='Employment:',\n",
    "    style={'description_width': 'initial'}\n",
    ")\n",
    "\n",
    "income_inp= widgets.IntText(\n",
    "    value=50000,\n",
    "    description='Income (PKR):',\n",
    "    style={'description_width':'initial'}\n",
    ")\n",
    "\n",
    "credit_score_inp=widgets.IntSlider(\n",
    "    value=700,\n",
    "    min=300,\n",
    "    max=850,\n",
    "    step=10,\n",
    "    description='Credit Score:',\n",
    "    style={'description_width':'initial'}\n",
    ")\n",
    "\n",
    "output =widgets.Output()\n",
    "\n",
    "def on_submit(_):\n",
    "    with output:\n",
    "        output.clear_output()\n",
    "        result=eligibility(employment_stat.value, income_inp.value, credit_score_inp.value)\n",
    "        display(result)\n",
    "submit_button = widgets.Button(description='Check Eligibility')\n",
    "submit_button.on_click(on_submit)\n",
    "\n",
    "display(employment_stat, income_inp, credit_score_inp, submit_button, output)\n",
    "\n"
   ]
  },
  {
   "cell_type": "markdown",
   "metadata": {
    "id": "s66ykZPwKmRL"
   },
   "source": [
    "## **🟢 Part 2: Investment Risk Assessment [4 marks]**  \n",
    "\n",
    "📌 **Requirement:**  \n",
    "SecureBank offers **investment analysis services**. The system should evaluate a **portfolio of stocks** and classify the risk level based on stock returns:  \n",
    "✔ If **any stock has a negative return**, the portfolio is **High Risk**.  \n",
    "✔ If **all stocks have positive returns**, but at least one return is below 5%, classify as **Medium Risk**.  \n",
    "✔ If **all stock returns are 5% or above**, classify as **Low Risk**.  \n",
    "\n",
    "### **Implementation Steps:**  \n",
    "🔹 **Step 1:** Use loops to iterate through the list of stock returns.  \n",
    "🔹 **Step 2:** Implement `if-elif` conditions to classify the risk.  \n",
    "🔹 **Step 3:** Write a Python program using **ipywidgets** to allow users to **input stock returns interactively** and receive a risk assessment.\n",
    "\n",
    "---"
   ]
  },
  {
   "cell_type": "code",
   "execution_count": 25,
   "metadata": {
    "id": "I6Mi2LbOKtym"
   },
   "outputs": [
    {
     "data": {
      "text/plain": [
       "[3.2, 4.0, 5.0, 3.8]"
      ]
     },
     "metadata": {},
     "output_type": "display_data"
    },
    {
     "data": {
      "application/vnd.jupyter.widget-view+json": {
       "model_id": "7b03bf362fe5405ea2042826bc5e258c",
       "version_major": 2,
       "version_minor": 0
      },
      "text/plain": [
       "Button(description='Submit', style=ButtonStyle())"
      ]
     },
     "metadata": {},
     "output_type": "display_data"
    },
    {
     "data": {
      "application/vnd.jupyter.widget-view+json": {
       "model_id": "839ec2c2033949eca67c5e676e6c88df",
       "version_major": 2,
       "version_minor": 0
      },
      "text/plain": [
       "Output()"
      ]
     },
     "metadata": {},
     "output_type": "display_data"
    }
   ],
   "source": [
    "import ipywidgets as widgets \n",
    "from IPython.display import display\n",
    "\n",
    "def PortfolioOfStock(stocks):\n",
    "    if any(stock < 0 for stock in stocks):\n",
    "        return \"One of the stocks is negative, the portfolio is high risk.\"\n",
    "    elif any(stock < 5 for stock in stocks):\n",
    "        return \"One of the stocks is less than 5%, the portfolio is medium risk.\"\n",
    "    elif all(stock >= 5 for stock in stocks): \n",
    "        return \"All stocks are above 5%, the portfolio is low risk.\"\n",
    "    else:\n",
    "        return \"Error, enter only numbers less than 100.\"\n",
    "\n",
    "\n",
    "stocks_= widgets.IntText(description='Number of Stocks: ',value=n)\n",
    "button= widgets.Button(description='Submit')\n",
    "output=widgets.Output()\n",
    "\n",
    "def on_buttonclick(b):\n",
    "    with output:\n",
    "        output.clear_output()\n",
    "        stocks=[]\n",
    "        for i in range(stocks_.value):\n",
    "            stock_return = float(input(f\"Enter the number of stocks {i+1}: \"))\n",
    "            stocks.append(stock_return)\n",
    "        print(\"\\nStock Returns:\", stocks)\n",
    "        risk_level= PortfolioOfStock(stocks)\n",
    "        print(\"Portfolio Risk Level:\", risk_level)\n",
    "\n",
    "button.on_click(on_buttonclick)\n",
    "display(stocks,button,output)\n",
    "\n",
    "\n"
   ]
  },
  {
   "cell_type": "markdown",
   "metadata": {
    "id": "xTrlsvaZKhaQ"
   },
   "source": [
    "## **🟢 Part 3: Loan Repayment Tracker [4 marks]**  \n",
    "\n",
    "📌 **Requirement:**  \n",
    "Customers who receive a loan should be able to track their **loan balance** as they make monthly payments. The system should:  \n",
    "✔ Start with an **initial loan balance** (e.g., PKR 500,000).  \n",
    "✔ Deduct a **fixed monthly payment** (e.g., PKR 25,000).  \n",
    "✔ Continue tracking until **loan balance reaches zero**.  \n",
    "✔ Display the remaining balance **after each payment**.  \n",
    "\n",
    "### **Implementation Steps:**  \n",
    "🔹 **Step 1:** Choose an appropriate loop (`for` or `while`).  \n",
    "🔹 **Step 2:** Ensure the loop **stops once the loan is fully paid**.  \n",
    "🔹 **Step 3:** Implement a Python program using **ipywidgets** to **simulate loan repayment interactively**.\n",
    "\n",
    "---"
   ]
  },
  {
   "cell_type": "code",
   "execution_count": 23,
   "metadata": {
    "id": "h3V9vFDjKvGH"
   },
   "outputs": [
    {
     "data": {
      "application/vnd.jupyter.widget-view+json": {
       "model_id": "1cad6dbba4ec4e04a074a33a413458c8",
       "version_major": 2,
       "version_minor": 0
      },
      "text/plain": [
       "FloatText(value=10000.0, description='Balance:')"
      ]
     },
     "metadata": {},
     "output_type": "display_data"
    },
    {
     "data": {
      "application/vnd.jupyter.widget-view+json": {
       "model_id": "1ddb3a7a831b4cb494cb1ca647b70d52",
       "version_major": 2,
       "version_minor": 0
      },
      "text/plain": [
       "FloatText(value=400.0, description='Monthly Payment:')"
      ]
     },
     "metadata": {},
     "output_type": "display_data"
    },
    {
     "data": {
      "application/vnd.jupyter.widget-view+json": {
       "model_id": "cc44a97072514aedb2b11f9823c35f92",
       "version_major": 2,
       "version_minor": 0
      },
      "text/plain": [
       "Button(description='Calculate', style=ButtonStyle())"
      ]
     },
     "metadata": {},
     "output_type": "display_data"
    },
    {
     "data": {
      "application/vnd.jupyter.widget-view+json": {
       "model_id": "cb5913c0bb2840f1997b9780adf1366b",
       "version_major": 2,
       "version_minor": 0
      },
      "text/plain": [
       "Output()"
      ]
     },
     "metadata": {},
     "output_type": "display_data"
    }
   ],
   "source": [
    "import ipywidgets as widgets \n",
    "from IPython.display import display, clear_output\n",
    "\n",
    "\n",
    "def loan_payment_counter(balance, monthly_payment):\n",
    "    months = 0\n",
    "    while balance > 0:\n",
    "        print(f\"Month {months + 1}: Remaining Balance: PKR{balance:.2f}\")\n",
    "        balance -= monthly_payment\n",
    "        months += 1\n",
    "        if balance <= 0:\n",
    "            return f\"All the loan payments have been made in {months} months.\"\n",
    "    return \"The balance is already zero.\"\n",
    "\n",
    "balance_inp = widgets.FloatText(description='Balance:', value=10000)\n",
    "monthly_inp = widgets.FloatText(description='Monthly Payment:', value=400)\n",
    "button = widgets.Button(description='Calculate')\n",
    "output = widgets.Output()\n",
    "\n",
    "\n",
    "def button_click(b):\n",
    "    with output:\n",
    "        clear_output()\n",
    "        balance = balance_inp.value\n",
    "        monthly_payment = monthly_inp.value\n",
    "        result = loan_payment_counter(balance, monthly_payment)\n",
    "        print(result)\n",
    "\n",
    "\n",
    "button.on_click(button_click)\n",
    "display(balance_inp, monthly_inp, button, output)\n"
   ]
  },
  {
   "cell_type": "markdown",
   "metadata": {
    "id": "3V72WRTcKc17"
   },
   "source": [
    "\n",
    "## **🟢 Part 4: Stock Price Monitoring and Trading Strategy [4 marks]**  \n",
    "\n",
    "📌 **Requirement:**  \n",
    "A stock trader wants to **track stock prices daily** and **sell when the price reaches PKR 200**. The system should:  \n",
    "✔ Iterate through a **list of stock prices**.  \n",
    "✔ **Skip missing stock data** (`None` values).  \n",
    "✔ Stop tracking **once the price reaches PKR 200**.  \n",
    "\n",
    "### **Implementation Steps:**  \n",
    "🔹 **Step 1:** Handle missing stock data using `continue`.  \n",
    "🔹 **Step 2:** Stop tracking once the stock hits the target price (`break`).  \n",
    "🔹 **Step 3:** Write a Python program using **ipywidgets** to **process stock prices interactively** and trigger alerts when conditions are met.\n",
    "\n",
    "---"
   ]
  },
  {
   "cell_type": "code",
   "execution_count": 37,
   "metadata": {
    "id": "G4v6qt6GKwFN"
   },
   "outputs": [
    {
     "data": {
      "application/vnd.jupyter.widget-view+json": {
       "model_id": "3c31d864a7b5426d88093671d4f993e9",
       "version_major": 2,
       "version_minor": 0
      },
      "text/plain": [
       "Textarea(value='', description='Stock Prices:', placeholder='Enter the stock prices(use commas)')"
      ]
     },
     "metadata": {},
     "output_type": "display_data"
    },
    {
     "data": {
      "application/vnd.jupyter.widget-view+json": {
       "model_id": "1153561f61274fe497a7d700a76a8c9e",
       "version_major": 2,
       "version_minor": 0
      },
      "text/plain": [
       "Button(description='Submit', style=ButtonStyle())"
      ]
     },
     "metadata": {},
     "output_type": "display_data"
    },
    {
     "data": {
      "application/vnd.jupyter.widget-view+json": {
       "model_id": "218bebbd49584e639e1937671833f8ef",
       "version_major": 2,
       "version_minor": 0
      },
      "text/plain": [
       "Output()"
      ]
     },
     "metadata": {},
     "output_type": "display_data"
    }
   ],
   "source": [
    "import ipywidgets as widgets \n",
    "from IPython.display import display, clear_output\n",
    "\n",
    "def stockprice_check(stocks):\n",
    "    day=1\n",
    "    for price in stocks:\n",
    "        if price is None:\n",
    "            continue\n",
    "        print(f\"Day{day}: Stock Price = PKR{price}\")\n",
    "        if price>=200:\n",
    "            print(\"Stock price reached 200 rupees.Selling now.\")\n",
    "            break\n",
    "        day+=1\n",
    "    else:\n",
    "            print(\"Price never reached 200 rupees.\")\n",
    "\n",
    "\n",
    "stocks_= widgets.Textarea(\n",
    "    description='Stock Prices:',\n",
    "    placeholder='Enter the stock prices(use commas)'\n",
    ")\n",
    "button= widgets.Button(description='Submit')\n",
    "output=widgets.Output()\n",
    "\n",
    "\n",
    "def on_buttonclick(b):\n",
    "    with output:\n",
    "        clear_output()\n",
    "        try:\n",
    "            stocks=[float(price.strip()) for price in stocks_.value.split(',') if price.strip()]\n",
    "            print(\"Stock prices getting tracked\")\n",
    "            stockprice_check(stocks)\n",
    "        except ValueError:\n",
    "            print(\"Invalid input. separate numbers by commas.\")\n",
    "\n",
    "button.on_click(on_buttonclick)\n",
    "display(stocks_,button,output)\n",
    "\n"
   ]
  },
  {
   "cell_type": "markdown",
   "metadata": {
    "id": "lD82JT7-KXqK"
   },
   "source": [
    "\n",
    "## **🟢 Part 5: Currency Exchange Rate Tracker [4 marks]**  \n",
    "\n",
    "📌 **Requirement:**  \n",
    "SecureBank provides **real-time currency exchange tracking**. The system should:  \n",
    "✔ Start at **PKR 290/USD**.  \n",
    "✔ Increase by **1 PKR per day** until it reaches **PKR 300/USD**.  \n",
    "✔ Print exchange rates daily and stop when the **target rate is reached**.  \n",
    "\n",
    "### **Implementation Steps:**  \n",
    "🔹 **Step 1:** Choose a suitable loop (`for` or `while`).  \n",
    "🔹 **Step 2:** Stop the loop when the exchange rate reaches the target.  \n",
    "🔹 **Step 3:** Implement a Python program using **ipywidgets** to **track the currency exchange rate interactively**.\n",
    "\n",
    "---"
   ]
  },
  {
   "cell_type": "code",
   "execution_count": 43,
   "metadata": {
    "id": "3xiDWiabKwfr"
   },
   "outputs": [
    {
     "data": {
      "application/vnd.jupyter.widget-view+json": {
       "model_id": "5a1772fd25d64c0aa16a500292af9cc9",
       "version_major": 2,
       "version_minor": 0
      },
      "text/plain": [
       "Button(description='Start Tracking Exchange Rate', style=ButtonStyle())"
      ]
     },
     "metadata": {},
     "output_type": "display_data"
    },
    {
     "data": {
      "application/vnd.jupyter.widget-view+json": {
       "model_id": "0adc561b265b4ba58cfd6a510cd8f6de",
       "version_major": 2,
       "version_minor": 0
      },
      "text/plain": [
       "Output()"
      ]
     },
     "metadata": {},
     "output_type": "display_data"
    }
   ],
   "source": [
    "import ipywidgets as widgets \n",
    "from IPython.display import display, clear_output\n",
    "\n",
    "def currency_exchange_tracking():\n",
    "    usd_rate=290\n",
    "    while usd_rate<=300:\n",
    "        print(f\"Exchange Rate: PKR{usd_rate}/USD\")\n",
    "        if usd_rate==300:\n",
    "            print(\"Target exchange rate reached. Tracking stopped.\")\n",
    "            break\n",
    "        usd_rate+=1\n",
    "\n",
    "button = widgets.Button(description='Start Tracking Exchange Rate')\n",
    "output = widgets.Output()\n",
    "\n",
    "def on_buttonclick(b):\n",
    "    with output:\n",
    "        clear_output()\n",
    "        currency_exchange_tracking()\n",
    "\n",
    "button.on_click(on_buttonclick)\n",
    "display(button, output)\n",
    "\n",
    "        "
   ]
  },
  {
   "cell_type": "markdown",
   "metadata": {
    "id": "-gpSKR0APnLP"
   },
   "source": [
    "*\n",
    "*   \n",
    "*   \n",
    "*   \n",
    "*\n",
    "*   \n",
    "*"
   ]
  },
  {
   "cell_type": "markdown",
   "metadata": {
    "id": "hUFnFKjmKxeH"
   },
   "source": [
    "\n",
    "\n",
    "---\n",
    "\n",
    "\n",
    "======================================== *to err is human* ========================================\n",
    "\n",
    "\n",
    "---\n",
    "\n"
   ]
  },
  {
   "cell_type": "markdown",
   "metadata": {
    "id": "E2rlRDSuPPRt"
   },
   "source": [
    "*   \n",
    "*\n",
    "*   \n",
    "*   \n",
    "*   \n",
    "*\n",
    "*   \n",
    "*\n",
    "\n",
    "---\n",
    "\n",
    "## **🎯 Grading Rubric (20 Marks)**  \n",
    "\n",
    "| **Criteria**           | **🌟 Excellent (4 Marks)** | **✅ Good (3 Marks)** | **⚠️ Satisfactory (2 Marks)** | **❌ Needs Improvement (1 Mark)** | **🚫 No Attempt (0 Marks)** |\n",
    "|------------------------|-----------------------|------------------|----------------------|----------------------|----------------------|\n",
    "| **📝 Loan Eligibility System**  | ✅ Correct logic with `ipywidgets`, handles user input well. | ⚠️ Mostly correct logic, minor issues. | ❌ Basic logic but missing conditions. | 🚫 Major errors in implementation. | ❌ No implementation. |\n",
    "| **📊 Investment Risk Assessment**  | ✅ Efficient looping with correct risk classification and `ipywidgets`. | ⚠️ Minor issues in logic or implementation. | ❌ Some conditions missing, basic implementation. | 🚫 Incorrect or incomplete logic. | ❌ No implementation. |\n",
    "| **💰 Loan Repayment Tracker**  | ✅ Tracks repayment correctly, interactive using `ipywidgets`. | ⚠️ Correct logic but missing interactivity. | ❌ Loop present but some logic missing. | 🚫 Incorrect approach. | ❌ No implementation. |\n",
    "| **📈 Stock Price Monitoring**  | ✅ Proper use of `continue` and `break`, handles missing values. | ⚠️ Minor logic issues, mostly correct. | ❌ Some conditions missing, partially correct. | 🚫 Incorrect logic, missing key elements. | ❌ No implementation. |\n",
    "| **💹 Currency Exchange Tracker**  | ✅ Correct loop, stops at target rate, structured well with `ipywidgets`. | ⚠️ Mostly correct, minor inefficiencies. | ❌ Incorrect stopping condition, basic implementation. | 🚫 Incorrect approach. | ❌ No implementation. |\n",
    "| **📜 Code Quality & Structure**  | ✅ Well-commented, clean code, follows best practices. | ⚠️ Mostly structured but needs better readability. | ❌ Works but lacks clarity. | 🚫 Unstructured, lacks comments. | ❌ No code present. |\n",
    "| **🎛️ Use of `ipywidgets`** | ✅ Used effectively in all parts, enhances interactivity. | ⚠️ Used in most parts but minor inefficiencies. | ❌ Implemented but not fully functional. | 🚫 Attempted but not used correctly. | ❌ No implementation. |\n",
    "| **📂 GitHub Submission & Documentation** | ✅ Well-structured repo, proper `README.md`. | ⚠️ Repo exists but lacks structured documentation. | ❌ Basic submission, missing details. | 🚫 Attempted but incomplete. | ❌ No submission. |\n",
    "| **📤 Google Classroom Submission** | ✅ Submitted correctly with all required elements. | ⚠️ Submitted but missing minor details. | ❌ Late submission or incomplete. | 🚫 Attempted but missing key parts. | ❌ No submission. |\n",
    "| **🔎 Overall Implementation & Accuracy** | ✅ All features implemented correctly, runs smoothly. | ⚠️ Most features implemented, minor issues. | ❌ Some features missing but basic functionality works. | 🚫 Major features missing. | ❌ No implementation. |\n",
    "\n",
    "---\n",
    "\n"
   ]
  },
  {
   "cell_type": "markdown",
   "metadata": {
    "id": "-_kwwSB6PiZp"
   },
   "source": [
    "*Follow the deadline. This is an individual assignment. Do not copy/paste from LLMs or from other students.*"
   ]
  }
 ],
 "metadata": {
  "colab": {
   "provenance": []
  },
  "kernelspec": {
   "display_name": "Python [conda env:base] *",
   "language": "python",
   "name": "conda-base-py"
  },
  "language_info": {
   "codemirror_mode": {
    "name": "ipython",
    "version": 3
   },
   "file_extension": ".py",
   "mimetype": "text/x-python",
   "name": "python",
   "nbconvert_exporter": "python",
   "pygments_lexer": "ipython3",
   "version": "3.12.7"
  }
 },
 "nbformat": 4,
 "nbformat_minor": 4
}
